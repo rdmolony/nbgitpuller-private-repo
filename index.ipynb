{
 "cells": [
  {
   "cell_type": "code",
   "execution_count": null,
   "metadata": {},
   "outputs": [],
   "source": [
    "#|hide\n",
    "from nbgitpuller_private_repo.core import *"
   ]
  },
  {
   "cell_type": "markdown",
   "metadata": {},
   "source": [
    "# nbgitpuller_private_repo\n",
    "\n",
    "> A CLI to generate an nbgitpuller URL for a private repository"
   ]
  },
  {
   "cell_type": "markdown",
   "metadata": {},
   "source": [
    "This file will become your README and also the index of your documentation."
   ]
  },
  {
   "cell_type": "markdown",
   "metadata": {},
   "source": [
    "## Install"
   ]
  },
  {
   "cell_type": "markdown",
   "metadata": {},
   "source": [
    "`pip install nbgitpuller_private_repo`"
   ]
  },
  {
   "cell_type": "markdown",
   "metadata": {},
   "source": [
    "## How to use"
   ]
  },
  {
   "cell_type": "markdown",
   "metadata": {},
   "source": [
    "---\n",
    "- Create a new `GitHub App` on your user or organisation profile via `Settings > Developer Settings > GitHub Apps > New GitHub App`\n",
    "    - Add your `Jupyter Hub` as your `Homepage URL`\n",
    "    - (Optional) Add a `Webhook URL`\n",
    "    - Add `Contents > Access > Read-only`\n",
    "\n",
    "---\n",
    "\n",
    "- Install the new app on your repositories via `Settings > Developer Settings > GitHub Apps > Edit > Install App > ⚙️`\n",
    "\n",
    "---"
   ]
  },
  {
   "cell_type": "code",
   "execution_count": null,
   "metadata": {},
   "outputs": [],
   "source": [
    "!nbgitpuller_private_repo --app-key-file 'my-github-app.2022-08-10.private-key' --app-id 1"
   ]
  }
 ],
 "metadata": {
  "kernelspec": {
   "display_name": "Python 3 (ipykernel)",
   "language": "python",
   "name": "python3"
  }
 },
 "nbformat": 4,
 "nbformat_minor": 4
}
